{
 "cells": [
  {
   "cell_type": "code",
   "execution_count": 2,
   "id": "23395148",
   "metadata": {
    "ExecuteTime": {
     "end_time": "2024-04-14T13:18:32.336422Z",
     "start_time": "2024-04-14T13:18:32.332162Z"
    }
   },
   "outputs": [],
   "source": [
    "import os\n",
    "# Ensure output directory exists\n",
    "output_dir = '../output'\n",
    "os.makedirs(output_dir, exist_ok=True)"
   ]
  },
  {
   "cell_type": "code",
   "execution_count": 3,
   "id": "83b93175",
   "metadata": {
    "ExecuteTime": {
     "end_time": "2024-04-14T13:18:32.647062Z",
     "start_time": "2024-04-14T13:18:32.640458Z"
    }
   },
   "outputs": [],
   "source": [
    "# Ensure output directory exists\n",
    "output_dir = '../output_html'\n",
    "os.makedirs(output_dir, exist_ok=True)"
   ]
  },
  {
   "cell_type": "code",
   "execution_count": 7,
   "id": "adf1dd12",
   "metadata": {
    "ExecuteTime": {
     "end_time": "2024-04-14T13:19:13.424203Z",
     "start_time": "2024-04-14T13:19:13.418811Z"
    }
   },
   "outputs": [],
   "source": [
    "# Ensure output directory exists\n",
    "output_dir = '../output_png'\n",
    "os.makedirs(output_dir, exist_ok=True)"
   ]
  },
  {
   "cell_type": "code",
   "execution_count": 8,
   "id": "a63226fb",
   "metadata": {
    "ExecuteTime": {
     "end_time": "2024-04-14T13:19:14.198578Z",
     "start_time": "2024-04-14T13:19:14.194428Z"
    }
   },
   "outputs": [],
   "source": [
    "# Ensure output directory exists\n",
    "output_dir = '../result_pdf'\n",
    "os.makedirs(output_dir, exist_ok=True)"
   ]
  },
  {
   "cell_type": "code",
   "execution_count": 9,
   "id": "a978d007",
   "metadata": {
    "ExecuteTime": {
     "end_time": "2024-04-14T13:19:14.477662Z",
     "start_time": "2024-04-14T13:19:14.473420Z"
    }
   },
   "outputs": [],
   "source": [
    "# Ensure output directory exists\n",
    "output_dir = '../history_pdf'\n",
    "os.makedirs(output_dir, exist_ok=True)"
   ]
  },
  {
   "cell_type": "code",
   "execution_count": null,
   "id": "a47abb5b",
   "metadata": {},
   "outputs": [],
   "source": []
  }
 ],
 "metadata": {
  "kernelspec": {
   "display_name": "Python 3 (ipykernel)",
   "language": "python",
   "name": "python3"
  },
  "language_info": {
   "codemirror_mode": {
    "name": "ipython",
    "version": 3
   },
   "file_extension": ".py",
   "mimetype": "text/x-python",
   "name": "python",
   "nbconvert_exporter": "python",
   "pygments_lexer": "ipython3",
   "version": "3.11.4"
  },
  "toc": {
   "base_numbering": 1,
   "nav_menu": {},
   "number_sections": true,
   "sideBar": true,
   "skip_h1_title": false,
   "title_cell": "Table of Contents",
   "title_sidebar": "Contents",
   "toc_cell": false,
   "toc_position": {},
   "toc_section_display": true,
   "toc_window_display": false
  }
 },
 "nbformat": 4,
 "nbformat_minor": 5
}
